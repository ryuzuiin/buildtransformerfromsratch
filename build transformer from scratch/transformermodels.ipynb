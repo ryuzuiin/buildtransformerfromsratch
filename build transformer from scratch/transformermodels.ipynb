{
 "cells": [
  {
   "cell_type": "markdown",
   "id": "3bcb122d-8140-434b-9d2f-3f289d297d9b",
   "metadata": {},
   "source": [
    "## Transformers\n",
    "transformer models = a slack of transformer layers/ blocks\n",
    "\n",
    "a block = attention mechanism + feed forward network\n",
    "\n",
    "feed forward network = MLP"
   ]
  },
  {
   "cell_type": "markdown",
   "id": "cb5d6857-33aa-4a30-bfd1-6b03f043f9bd",
   "metadata": {},
   "source": [
    "### Feed Forward Network\n",
    "\n",
    "FFN operates on each token independently of all othertokens in the sequence."
   ]
  },
  {
   "cell_type": "code",
   "execution_count": null,
   "id": "d0b480b3-75eb-4b12-93e3-b9e28b94ede6",
   "metadata": {},
   "outputs": [],
   "source": []
  }
 ],
 "metadata": {
  "kernelspec": {
   "display_name": "Python 3 (ipykernel)",
   "language": "python",
   "name": "python3"
  },
  "language_info": {
   "codemirror_mode": {
    "name": "ipython",
    "version": 3
   },
   "file_extension": ".py",
   "mimetype": "text/x-python",
   "name": "python",
   "nbconvert_exporter": "python",
   "pygments_lexer": "ipython3",
   "version": "3.10.11"
  }
 },
 "nbformat": 4,
 "nbformat_minor": 5
}
